{
 "cells": [
  {
   "cell_type": "code",
   "execution_count": 1,
   "metadata": {},
   "outputs": [
    {
     "name": "stderr",
     "output_type": "stream",
     "text": [
      "\n",
      "Attaching package: 'dplyr'\n",
      "\n",
      "The following objects are masked from 'package:stats':\n",
      "\n",
      "    filter, lag\n",
      "\n",
      "The following objects are masked from 'package:base':\n",
      "\n",
      "    intersect, setdiff, setequal, union\n",
      "\n",
      "randomForest 4.6-14\n",
      "Type rfNews() to see new features/changes/bug fixes.\n",
      "\n",
      "Attaching package: 'randomForest'\n",
      "\n",
      "The following object is masked from 'package:dplyr':\n",
      "\n",
      "    combine\n",
      "\n",
      "Loading required package: lattice\n",
      "Loading required package: survival\n",
      "Loading required package: Formula\n",
      "Loading required package: ggplot2\n",
      "\n",
      "Attaching package: 'ggplot2'\n",
      "\n",
      "The following object is masked from 'package:randomForest':\n",
      "\n",
      "    margin\n",
      "\n",
      "\n",
      "Attaching package: 'Hmisc'\n",
      "\n",
      "The following objects are masked from 'package:dplyr':\n",
      "\n",
      "    src, summarize\n",
      "\n",
      "The following objects are masked from 'package:base':\n",
      "\n",
      "    format.pval, units\n",
      "\n",
      "Loading required package: grid\n",
      "Loading required package: mvtnorm\n",
      "Loading required package: modeltools\n",
      "Loading required package: stats4\n",
      "Loading required package: strucchange\n",
      "Loading required package: zoo\n",
      "\n",
      "Attaching package: 'zoo'\n",
      "\n",
      "The following objects are masked from 'package:base':\n",
      "\n",
      "    as.Date, as.Date.numeric\n",
      "\n",
      "Loading required package: sandwich\n",
      "\n",
      "Attaching package: 'data.table'\n",
      "\n",
      "The following objects are masked from 'package:dplyr':\n",
      "\n",
      "    between, first, last\n",
      "\n",
      "------------------------------------------------------------------------------\n",
      "You have loaded plyr after dplyr - this is likely to cause problems.\n",
      "If you need functions from both plyr and dplyr, please load plyr first, then dplyr:\n",
      "library(plyr); library(dplyr)\n",
      "------------------------------------------------------------------------------\n",
      "\n",
      "Attaching package: 'plyr'\n",
      "\n",
      "The following object is masked from 'package:modeltools':\n",
      "\n",
      "    empty\n",
      "\n",
      "The following objects are masked from 'package:Hmisc':\n",
      "\n",
      "    is.discrete, summarize\n",
      "\n",
      "The following objects are masked from 'package:dplyr':\n",
      "\n",
      "    arrange, count, desc, failwith, id, mutate, rename, summarise,\n",
      "    summarize\n",
      "\n",
      "corrplot 0.84 loaded\n",
      "Type 'citation(\"pROC\")' for a citation.\n",
      "\n",
      "Attaching package: 'pROC'\n",
      "\n",
      "The following objects are masked from 'package:stats':\n",
      "\n",
      "    cov, smooth, var\n",
      "\n",
      "Loading required package: Matrix\n",
      "Loading required package: foreach\n",
      "Loaded glmnet 2.0-16\n",
      "\n",
      "\n",
      "Attaching package: 'glmnet'\n",
      "\n",
      "The following object is masked from 'package:pROC':\n",
      "\n",
      "    auc\n",
      "\n",
      "\n",
      "Attaching package: 'caret'\n",
      "\n",
      "The following object is masked from 'package:survival':\n",
      "\n",
      "    cluster\n",
      "\n",
      "Loading required package: iterators\n",
      "Loading required package: parallel\n"
     ]
    }
   ],
   "source": [
    "library(readr)\n",
    "library(dplyr)\n",
    "library(randomForest)\n",
    "library(Hmisc)\n",
    "library(party)\n",
    "library(data.table)\n",
    "library(ggplot2)\n",
    "library(plyr)\n",
    "library(dplyr)\n",
    "library(corrplot)\n",
    "library(pROC)\n",
    "library(glmnet)\n",
    "library(caret)\n",
    "library(Rtsne)\n",
    "library(doMC)"
   ]
  },
  {
   "cell_type": "code",
   "execution_count": 2,
   "metadata": {},
   "outputs": [],
   "source": [
    "data <- read.csv(\"creditcard.csv\")\n"
   ]
  },
  {
   "cell_type": "code",
   "execution_count": 3,
   "metadata": {},
   "outputs": [],
   "source": [
    "data$Class <- factor(data$Class)\n"
   ]
  },
  {
   "cell_type": "code",
   "execution_count": 4,
   "metadata": {},
   "outputs": [],
   "source": [
    "index <- sample(2,nrow(data),prob = c(0.7,0.3),replace = TRUE)\n"
   ]
  },
  {
   "cell_type": "code",
   "execution_count": 5,
   "metadata": {},
   "outputs": [],
   "source": [
    "train <- data[index==1,]\n",
    "test <- data[index==2,]"
   ]
  },
  {
   "cell_type": "code",
   "execution_count": 6,
   "metadata": {},
   "outputs": [
    {
     "data": {
      "text/plain": [
       "\n",
       "     0      1 \n",
       "198930    345 "
      ]
     },
     "metadata": {},
     "output_type": "display_data"
    },
    {
     "data": {
      "text/plain": [
       "\n",
       "    0     1 \n",
       "85385   147 "
      ]
     },
     "metadata": {},
     "output_type": "display_data"
    }
   ],
   "source": [
    "table(train$Class)\n",
    "table(test$Class)"
   ]
  },
  {
   "cell_type": "code",
   "execution_count": 7,
   "metadata": {},
   "outputs": [
    {
     "name": "stderr",
     "output_type": "stream",
     "text": [
      "Loaded ROSE 0.0-3\n",
      "\n"
     ]
    }
   ],
   "source": [
    "library(\"ROSE\")"
   ]
  },
  {
   "cell_type": "code",
   "execution_count": 8,
   "metadata": {},
   "outputs": [
    {
     "name": "stderr",
     "output_type": "stream",
     "text": [
      "\n",
      "Attaching package: 'rpart'\n",
      "\n",
      "The following object is masked from 'package:survival':\n",
      "\n",
      "    solder\n",
      "\n"
     ]
    }
   ],
   "source": [
    "library(\"rpart\")"
   ]
  },
  {
   "cell_type": "code",
   "execution_count": 9,
   "metadata": {},
   "outputs": [
    {
     "data": {
      "text/plain": [
       "\n",
       "    0     1 \n",
       "20086 19914 "
      ]
     },
     "metadata": {},
     "output_type": "display_data"
    }
   ],
   "source": [
    "data.rose <- ROSE(Class ~ ., data = train, seed = 1,N = 40000)$data\n",
    "table(data.rose$Class)"
   ]
  },
  {
   "cell_type": "code",
   "execution_count": 10,
   "metadata": {},
   "outputs": [],
   "source": [
    "rfModel_rose <- randomForest(Class ~ . , data = data.rose)\n"
   ]
  },
  {
   "cell_type": "code",
   "execution_count": 11,
   "metadata": {},
   "outputs": [
    {
     "data": {
      "text/plain": [
       "\n",
       "Call:\n",
       " randomForest(formula = Class ~ ., data = data.rose) \n",
       "               Type of random forest: classification\n",
       "                     Number of trees: 500\n",
       "No. of variables tried at each split: 5\n",
       "\n",
       "        OOB estimate of  error rate: 0.36%\n",
       "Confusion matrix:\n",
       "      0     1  class.error\n",
       "0 19961   125 0.0062232401\n",
       "1    19 19895 0.0009541026"
      ]
     },
     "metadata": {},
     "output_type": "display_data"
    }
   ],
   "source": [
    "rfModel_rose"
   ]
  },
  {
   "cell_type": "code",
   "execution_count": 12,
   "metadata": {},
   "outputs": [],
   "source": [
    "test$predicted <- predict(rfModel_rose, test, type = 'class')\n"
   ]
  },
  {
   "cell_type": "code",
   "execution_count": 13,
   "metadata": {},
   "outputs": [
    {
     "data": {
      "text/plain": [
       "Confusion Matrix and Statistics\n",
       "\n",
       "          Reference\n",
       "Prediction     0     1\n",
       "         0 85180   205\n",
       "         1    21   126\n",
       "                                         \n",
       "               Accuracy : 0.9974         \n",
       "                 95% CI : (0.997, 0.9977)\n",
       "    No Information Rate : 0.9961         \n",
       "    P-Value [Acc > NIR] : 5.458e-10      \n",
       "                                         \n",
       "                  Kappa : 0.5261         \n",
       " Mcnemar's Test P-Value : < 2.2e-16      \n",
       "                                         \n",
       "            Sensitivity : 0.9998         \n",
       "            Specificity : 0.3807         \n",
       "         Pos Pred Value : 0.9976         \n",
       "         Neg Pred Value : 0.8571         \n",
       "             Prevalence : 0.9961         \n",
       "         Detection Rate : 0.9959         \n",
       "   Detection Prevalence : 0.9983         \n",
       "      Balanced Accuracy : 0.6902         \n",
       "                                         \n",
       "       'Positive' Class : 0              \n",
       "                                         "
      ]
     },
     "metadata": {},
     "output_type": "display_data"
    }
   ],
   "source": [
    "library(caret)\n",
    "confusionMatrix(test$Class, test$predicted)"
   ]
  },
  {
   "cell_type": "code",
   "execution_count": 14,
   "metadata": {},
   "outputs": [
    {
     "name": "stderr",
     "output_type": "stream",
     "text": [
      "\n",
      "Attaching package: 'MLmetrics'\n",
      "\n",
      "The following objects are masked from 'package:caret':\n",
      "\n",
      "    MAE, RMSE\n",
      "\n",
      "The following object is masked from 'package:base':\n",
      "\n",
      "    Recall\n",
      "\n"
     ]
    }
   ],
   "source": [
    "library(MLmetrics)\n"
   ]
  },
  {
   "cell_type": "code",
   "execution_count": 15,
   "metadata": {},
   "outputs": [
    {
     "data": {
      "text/html": [
       "0.998675155053756"
      ],
      "text/latex": [
       "0.998675155053756"
      ],
      "text/markdown": [
       "0.998675155053756"
      ],
      "text/plain": [
       "[1] 0.9986752"
      ]
     },
     "metadata": {},
     "output_type": "display_data"
    }
   ],
   "source": [
    "F1_all <- F1_Score(test$Class, test$predicted)\n",
    "F1_all"
   ]
  },
  {
   "cell_type": "code",
   "execution_count": 16,
   "metadata": {},
   "outputs": [
    {
     "data": {
      "image/png": "[encoded data removed]",
      "text/plain": [
       "Plot with title \"Top 10 Most Important Variables\""
      ]
     },
     "metadata": {},
     "output_type": "display_data"
    }
   ],
   "source": [
    "options(repr.plot.width=5, repr.plot.height=4)\n",
    "    varImpPlot(rfModel_rose,\n",
    "          sort = T,\n",
    "           n.var=10,\n",
    "           main=\"Top 10 Most Important Variables\")"
   ]
  },
  {
   "cell_type": "code",
   "execution_count": 17,
   "metadata": {},
   "outputs": [
    {
     "data": {
      "text/html": [
       "0.930796822475539"
      ],
      "text/latex": [
       "0.930796822475539"
      ],
      "text/markdown": [
       "0.930796822475539"
      ],
      "text/plain": [
       "[1] 0.9307968"
      ]
     },
     "metadata": {},
     "output_type": "display_data"
    }
   ],
   "source": [
    "rfModelTrim1 <- randomForest(Class ~  V14, \n",
    "                            data = data.rose)\n",
    "\n",
    "test$predictedTrim1 <- predict(rfModelTrim1, test)\n",
    "\n",
    "F1_1 <- F1_Score(test$Class, test$predictedTrim1)\n",
    "F1_1"
   ]
  },
  {
   "cell_type": "code",
   "execution_count": 18,
   "metadata": {},
   "outputs": [
    {
     "data": {
      "text/html": [
       "0.99304961946814"
      ],
      "text/latex": [
       "0.99304961946814"
      ],
      "text/markdown": [
       "0.99304961946814"
      ],
      "text/plain": [
       "[1] 0.9930496"
      ]
     },
     "metadata": {},
     "output_type": "display_data"
    }
   ],
   "source": [
    "rfModelTrim2 <- randomForest(Class ~  V14 + V17, \n",
    "                            data = data.rose)\n",
    "\n",
    "test$predictedTrim2 <- predict(rfModelTrim2, test)\n",
    "\n",
    "F1_2 <- F1_Score(test$Class, test$predictedTrim2)\n",
    "F1_2"
   ]
  },
  {
   "cell_type": "code",
   "execution_count": 19,
   "metadata": {},
   "outputs": [
    {
     "data": {
      "text/html": [
       "0.995176243587934"
      ],
      "text/latex": [
       "0.995176243587934"
      ],
      "text/markdown": [
       "0.995176243587934"
      ],
      "text/plain": [
       "[1] 0.9951762"
      ]
     },
     "metadata": {},
     "output_type": "display_data"
    }
   ],
   "source": [
    "rfModelTrim3 <- randomForest(Class ~  V17 + V10 + V14, \n",
    "                            data = data.rose)\n",
    "\n",
    "test$predictedTrim3 <- predict(rfModelTrim3, test)\n",
    "\n",
    "F1_3 <- F1_Score(test$Class, test$predictedTrim3)\n",
    "F1_3"
   ]
  },
  {
   "cell_type": "code",
   "execution_count": 20,
   "metadata": {},
   "outputs": [
    {
     "data": {
      "text/html": [
       "0.996822712029647"
      ],
      "text/latex": [
       "0.996822712029647"
      ],
      "text/markdown": [
       "0.996822712029647"
      ],
      "text/plain": [
       "[1] 0.9968227"
      ]
     },
     "metadata": {},
     "output_type": "display_data"
    }
   ],
   "source": [
    "# four variables\n",
    "rfModelTrim4 <- randomForest(Class ~  V17 + V12 + V14 + V10, \n",
    "                            data = data.rose)\n",
    "\n",
    "test$predictedTrim4 <- predict(rfModelTrim4, test)\n",
    "\n",
    "F1_4 <- F1_Score(test$Class, test$predictedTrim4)\n",
    "F1_4"
   ]
  },
  {
   "cell_type": "code",
   "execution_count": 21,
   "metadata": {},
   "outputs": [
    {
     "data": {
      "text/html": [
       "0.997329169577187"
      ],
      "text/latex": [
       "0.997329169577187"
      ],
      "text/markdown": [
       "0.997329169577187"
      ],
      "text/plain": [
       "[1] 0.9973292"
      ]
     },
     "metadata": {},
     "output_type": "display_data"
    }
   ],
   "source": [
    "# five variables\n",
    "rfModelTrim5 <- randomForest(Class ~  V17 + V12 + V14 + V10 + V3, \n",
    "                            data = data.rose)\n",
    "\n",
    "test$predictedTrim5 <- predict(rfModelTrim5, test)\n",
    "\n",
    "F1_5 <- F1_Score(test$Class, test$predictedTrim5)\n",
    "F1_5"
   ]
  },
  {
   "cell_type": "code",
   "execution_count": 22,
   "metadata": {},
   "outputs": [
    {
     "data": {
      "text/html": [
       "0.99807018881648"
      ],
      "text/latex": [
       "0.99807018881648"
      ],
      "text/markdown": [
       "0.99807018881648"
      ],
      "text/plain": [
       "[1] 0.9980702"
      ]
     },
     "metadata": {},
     "output_type": "display_data"
    }
   ],
   "source": [
    "# ten variables\n",
    "rfModelTrim10 <- randomForest(Class ~  V17 + V12 + V14 + V10 + V16 \n",
    "                              + V11 + V8 + V4 + V18 + V3, \n",
    "                            data = data.rose)\n",
    "\n",
    "test$predictedTrim10 <- predict(rfModelTrim10, test)\n",
    "\n",
    "F1_10 <- F1_Score(test$Class, test$predictedTrim10)\n",
    "F1_10"
   ]
  },
  {
   "cell_type": "code",
   "execution_count": 23,
   "metadata": {},
   "outputs": [],
   "source": [
    "# build dataframe of number of variables and scores\n",
    "numVariables <- c(1,2,3,4,5,10,17)\n",
    "F1_Score <- c(F1_1, F1_2, F1_3, F1_4, F1_5, F1_10, F1_all)\n",
    "variablePerf <- data.frame(numVariables, F1_Score)"
   ]
  },
  {
   "cell_type": "code",
   "execution_count": 24,
   "metadata": {},
   "outputs": [
    {
     "data": {},
     "metadata": {},
     "output_type": "display_data"
    },
    {
     "data": {
      "image/png": "[encoded data removed]",
      "text/plain": [
       "plot without title"
      ]
     },
     "metadata": {},
     "output_type": "display_data"
    }
   ],
   "source": [
    "# plot score performance against number of variables\n",
    "options(repr.plot.width=4, repr.plot.height=3)\n",
    "ggplot(variablePerf, aes(numVariables, F1_Score)) + geom_point() + labs(x = \"Number of Variables\", y = \"F1 Score\", title = \"F1 Score Performance\")"
   ]
  },
  {
   "cell_type": "code",
   "execution_count": 28,
   "metadata": {},
   "outputs": [
    {
     "data": {
      "text/plain": [
       "Area under the curve (AUC): 0.927"
      ]
     },
     "metadata": {},
     "output_type": "display_data"
    },
    {
     "data": {
      "image/png": "[encoded data removed]",
      "text/plain": [
       "Plot with title \"ROC curve\""
      ]
     },
     "metadata": {},
     "output_type": "display_data"
    }
   ],
   "source": [
    "roc.curve(test$Class, test$predicted, plotit = T)\n"
   ]
  },
  {
   "cell_type": "code",
   "execution_count": null,
   "metadata": {},
   "outputs": [],
   "source": []
  },
  {
   "cell_type": "code",
   "execution_count": null,
   "metadata": {},
   "outputs": [],
   "source": []
  },
  {
   "cell_type": "code",
   "execution_count": null,
   "metadata": {},
   "outputs": [],
   "source": []
  },
  {
   "cell_type": "code",
   "execution_count": null,
   "metadata": {},
   "outputs": [],
   "source": []
  },
  {
   "cell_type": "code",
   "execution_count": null,
   "metadata": {},
   "outputs": [],
   "source": []
  },
  {
   "cell_type": "code",
   "execution_count": null,
   "metadata": {},
   "outputs": [],
   "source": []
  },
  {
   "cell_type": "code",
   "execution_count": null,
   "metadata": {},
   "outputs": [],
   "source": []
  }
 ],
 "metadata": {
  "kernelspec": {
   "display_name": "R",
   "language": "R",
   "name": "ir"
  },
  "language_info": {
   "codemirror_mode": "r",
   "file_extension": ".r",
   "mimetype": "text/x-r-source",
   "name": "R",
   "pygments_lexer": "r",
   "version": "3.5.1"
  }
 },
 "nbformat": 4,
 "nbformat_minor": 2
}
