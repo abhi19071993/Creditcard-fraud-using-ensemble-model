{
 "cells": [
  {
   "cell_type": "code",
   "execution_count": 1,
   "metadata": {},
   "outputs": [
    {
     "name": "stderr",
     "output_type": "stream",
     "text": [
      "\n",
      "Attaching package: 'dplyr'\n",
      "\n",
      "The following objects are masked from 'package:stats':\n",
      "\n",
      "    filter, lag\n",
      "\n",
      "The following objects are masked from 'package:base':\n",
      "\n",
      "    intersect, setdiff, setequal, union\n",
      "\n",
      "randomForest 4.6-14\n",
      "Type rfNews() to see new features/changes/bug fixes.\n",
      "\n",
      "Attaching package: 'randomForest'\n",
      "\n",
      "The following object is masked from 'package:dplyr':\n",
      "\n",
      "    combine\n",
      "\n",
      "Loading required package: lattice\n",
      "Loading required package: survival\n",
      "Loading required package: Formula\n",
      "Loading required package: ggplot2\n",
      "\n",
      "Attaching package: 'ggplot2'\n",
      "\n",
      "The following object is masked from 'package:randomForest':\n",
      "\n",
      "    margin\n",
      "\n",
      "\n",
      "Attaching package: 'Hmisc'\n",
      "\n",
      "The following objects are masked from 'package:dplyr':\n",
      "\n",
      "    src, summarize\n",
      "\n",
      "The following objects are masked from 'package:base':\n",
      "\n",
      "    format.pval, units\n",
      "\n",
      "Loading required package: grid\n",
      "Loading required package: mvtnorm\n",
      "Loading required package: modeltools\n",
      "Loading required package: stats4\n",
      "Loading required package: strucchange\n",
      "Loading required package: zoo\n",
      "\n",
      "Attaching package: 'zoo'\n",
      "\n",
      "The following objects are masked from 'package:base':\n",
      "\n",
      "    as.Date, as.Date.numeric\n",
      "\n",
      "Loading required package: sandwich\n",
      "\n",
      "Attaching package: 'data.table'\n",
      "\n",
      "The following objects are masked from 'package:dplyr':\n",
      "\n",
      "    between, first, last\n",
      "\n",
      "------------------------------------------------------------------------------\n",
      "You have loaded plyr after dplyr - this is likely to cause problems.\n",
      "If you need functions from both plyr and dplyr, please load plyr first, then dplyr:\n",
      "library(plyr); library(dplyr)\n",
      "------------------------------------------------------------------------------\n",
      "\n",
      "Attaching package: 'plyr'\n",
      "\n",
      "The following object is masked from 'package:modeltools':\n",
      "\n",
      "    empty\n",
      "\n",
      "The following objects are masked from 'package:Hmisc':\n",
      "\n",
      "    is.discrete, summarize\n",
      "\n",
      "The following objects are masked from 'package:dplyr':\n",
      "\n",
      "    arrange, count, desc, failwith, id, mutate, rename, summarise,\n",
      "    summarize\n",
      "\n",
      "corrplot 0.84 loaded\n",
      "Type 'citation(\"pROC\")' for a citation.\n",
      "\n",
      "Attaching package: 'pROC'\n",
      "\n",
      "The following objects are masked from 'package:stats':\n",
      "\n",
      "    cov, smooth, var\n",
      "\n",
      "Loading required package: Matrix\n",
      "Loading required package: foreach\n",
      "Loaded glmnet 2.0-16\n",
      "\n",
      "\n",
      "Attaching package: 'glmnet'\n",
      "\n",
      "The following object is masked from 'package:pROC':\n",
      "\n",
      "    auc\n",
      "\n",
      "\n",
      "Attaching package: 'caret'\n",
      "\n",
      "The following object is masked from 'package:survival':\n",
      "\n",
      "    cluster\n",
      "\n",
      "Loading required package: iterators\n",
      "Loading required package: parallel\n",
      "Loaded ROSE 0.0-3\n",
      "\n",
      "\n",
      "Attaching package: 'naivebayes'\n",
      "\n",
      "The following object is masked from 'package:data.table':\n",
      "\n",
      "    tables\n",
      "\n",
      "Loading required package: gplots\n",
      "\n",
      "Attaching package: 'gplots'\n",
      "\n",
      "The following object is masked from 'package:stats':\n",
      "\n",
      "    lowess\n",
      "\n",
      "\n",
      "Attaching package: 'rpart'\n",
      "\n",
      "The following object is masked from 'package:survival':\n",
      "\n",
      "    solder\n",
      "\n",
      "\n",
      "Attaching package: 'ranger'\n",
      "\n",
      "The following object is masked from 'package:randomForest':\n",
      "\n",
      "    importance\n",
      "\n"
     ]
    }
   ],
   "source": [
    "library(readr)\n",
    "library(dplyr)\n",
    "library(randomForest)\n",
    "library(Hmisc)\n",
    "library(party)\n",
    "library(data.table)\n",
    "library(ggplot2)\n",
    "library(plyr)\n",
    "library(dplyr)\n",
    "library(corrplot)\n",
    "library(pROC)\n",
    "library(glmnet)\n",
    "library(caret)\n",
    "library(Rtsne)\n",
    "library(doMC)\n",
    "library(\"ROSE\")\n",
    "library(class)\n",
    "library(naivebayes)\n",
    "library(ROCR)\n",
    "library(rpart)\n",
    "library(ranger)"
   ]
  },
  {
   "cell_type": "code",
   "execution_count": 2,
   "metadata": {},
   "outputs": [],
   "source": [
    "data <- read.csv(\"creditcard.csv\")\n"
   ]
  },
  {
   "cell_type": "code",
   "execution_count": 3,
   "metadata": {},
   "outputs": [],
   "source": [
    "index <- sample(2,nrow(data),prob = c(0.7,0.3),replace = TRUE)\n"
   ]
  },
  {
   "cell_type": "code",
   "execution_count": 4,
   "metadata": {},
   "outputs": [],
   "source": [
    "train <- data[index==1,]\n",
    "test <- data[index==2,]"
   ]
  },
  {
   "cell_type": "code",
   "execution_count": 5,
   "metadata": {},
   "outputs": [
    {
     "name": "stdout",
     "output_type": "stream",
     "text": [
      "Observations: 198,833\n",
      "Variables: 31\n",
      "$ Time   <dbl> 0, 0, 1, 2, 4, 7, 9, 10, 11, 12, 12, 12, 13, 14, 18, 22, 23,...\n",
      "$ V1     <dbl> -1.3598071, 1.1918571, -1.3583541, -1.1582331, 1.2296576, -0...\n",
      "$ V2     <dbl> -0.07278117, 0.26615071, -1.34016307, 0.87773675, 0.14100351...\n",
      "$ V3     <dbl> 2.53634674, 0.16648011, 1.77320934, 1.54871785, 0.04537077, ...\n",
      "$ V4     <dbl> 1.3781552, 0.4481541, 0.3797796, 0.4030339, 1.2026127, -0.49...\n",
      "$ V5     <dbl> -0.338320770, 0.060017649, -0.503198133, -0.407193377, 0.191...\n",
      "$ V6     <dbl> 0.46238778, -0.08236081, 1.80049938, 0.09592146, 0.27270812,...\n",
      "$ V7     <dbl> 0.239598554, -0.078802983, 0.791460956, 0.592940745, -0.0051...\n",
      "$ V8     <dbl> 0.098697901, 0.085101655, 0.247675787, -0.270532677, 0.08121...\n",
      "$ V9     <dbl> 0.36378697, -0.25542513, -1.51465432, 0.81773931, 0.46495999...\n",
      "$ V10    <dbl> 0.09079417, -0.16697441, 0.20764287, 0.75307443, -0.09925432...\n",
      "$ V11    <dbl> -0.551599533, 1.612726661, 0.624501459, -0.822842878, -1.416...\n",
      "$ V12    <dbl> -0.61780086, 1.06523531, 0.06608369, 0.53819555, -0.15382583...\n",
      "$ V13    <dbl> -0.99138985, 0.48909502, 0.71729273, 1.34585159, -0.75106272...\n",
      "$ V14    <dbl> -0.31116935, -0.14377230, -0.16594592, -1.11966983, 0.167371...\n",
      "$ V15    <dbl> 1.468176972, 0.635558093, 2.345864949, 0.175121130, 0.050143...\n",
      "$ V16    <dbl> -0.470400525, 0.463917041, -2.890083194, -0.451449183, -0.44...\n",
      "$ V17    <dbl> 0.207971242, -0.114804663, 1.109969379, -0.237033239, 0.0028...\n",
      "$ V18    <dbl> 0.02579058, -0.18336127, -0.12135931, -0.03819479, -0.611987...\n",
      "$ V19    <dbl> 0.40399296, -0.14578304, -2.26185710, 0.80348692, -0.0455750...\n",
      "$ V20    <dbl> 0.251412098, -0.069083135, 0.524979725, 0.408542360, -0.2196...\n",
      "$ V21    <dbl> -0.018306778, -0.225775248, 0.247998153, -0.009430697, -0.16...\n",
      "$ V22    <dbl> 0.27783758, -0.63867195, 0.77167940, 0.79827849, -0.27070973...\n",
      "$ V23    <dbl> -0.11047391, 0.10128802, 0.90941226, -0.13745808, -0.1541037...\n",
      "$ V24    <dbl> 0.0669280749, -0.3398464755, -0.6892809565, 0.1412669838, -0...\n",
      "$ V25    <dbl> 0.12853936, 0.16717040, -0.32764183, -0.20600959, 0.75013694...\n",
      "$ V26    <dbl> -0.18911484, 0.12589453, -0.13909657, 0.50229222, -0.2572368...\n",
      "$ V27    <dbl> 0.133558377, -0.008983099, -0.055352794, 0.219422230, 0.0345...\n",
      "$ V28    <dbl> -0.021053053, 0.014724169, -0.059751841, 0.215153147, 0.0051...\n",
      "$ Amount <dbl> 149.62, 2.69, 378.66, 69.99, 4.99, 40.80, 3.68, 7.80, 27.50,...\n",
      "$ Class  <int> 0, 0, 0, 0, 0, 0, 0, 0, 0, 0, 0, 0, 0, 0, 0, 0, 0, 0, 0, 0, ...\n"
     ]
    }
   ],
   "source": [
    "glimpse(train)"
   ]
  },
  {
   "cell_type": "code",
   "execution_count": 6,
   "metadata": {},
   "outputs": [
    {
     "data": {
      "text/plain": [
       "\n",
       "     0      1 \n",
       "198499    334 "
      ]
     },
     "metadata": {},
     "output_type": "display_data"
    },
    {
     "data": {
      "text/plain": [
       "\n",
       "    0     1 \n",
       "85816   158 "
      ]
     },
     "metadata": {},
     "output_type": "display_data"
    }
   ],
   "source": [
    "table(train$Class)\n",
    "table(test$Class)"
   ]
  },
  {
   "cell_type": "code",
   "execution_count": 7,
   "metadata": {},
   "outputs": [],
   "source": [
    "library(\"ROSE\")"
   ]
  },
  {
   "cell_type": "code",
   "execution_count": 8,
   "metadata": {},
   "outputs": [
    {
     "data": {
      "text/plain": [
       "\n",
       "    0     1 \n",
       "20086 19914 "
      ]
     },
     "metadata": {},
     "output_type": "display_data"
    }
   ],
   "source": [
    "data.rose <- ROSE(Class ~ ., data = train, seed = 1,N = 40000)$data\n",
    "table(data.rose$Class)"
   ]
  },
  {
   "cell_type": "code",
   "execution_count": 9,
   "metadata": {},
   "outputs": [],
   "source": [
    "attach(data.rose)"
   ]
  },
  {
   "cell_type": "code",
   "execution_count": 10,
   "metadata": {},
   "outputs": [
    {
     "data": {
      "text/plain": [
       "      Time               V1                 V2                 V3          \n",
       " Min.   :-128581   Min.   :-43.4407   Min.   :-35.0921   Min.   :-56.3446  \n",
       " 1st Qu.:  44340   1st Qu.: -4.1569   1st Qu.: -0.7395   1st Qu.: -5.6409  \n",
       " Median :  86605   Median : -0.6745   Median :  0.7899   Median : -1.0025  \n",
       " Mean   :  88406   Mean   : -2.3536   Mean   :  1.7571   Mean   : -3.4501  \n",
       " 3rd Qu.: 132857   3rd Qu.:  1.4164   3rd Qu.:  3.2824   3rd Qu.:  0.8523  \n",
       " Max.   : 303433   Max.   : 18.3661   Max.   : 28.0585   Max.   : 19.4970  \n",
       "       V4                V5                 V6                 V7          \n",
       " Min.   :-8.9280   Min.   :-33.3354   Min.   :-18.6758   Min.   :-52.3465  \n",
       " 1st Qu.:-0.3827   1st Qu.: -2.7114   1st Qu.: -1.8839   1st Qu.: -4.2767  \n",
       " Median : 1.2915   Median : -0.4752   Median : -0.6475   Median : -0.5467  \n",
       " Mean   : 2.2437   Mean   : -1.5815   Mean   : -0.6991   Mean   : -2.6647  \n",
       " 3rd Qu.: 4.4688   3rd Qu.:  1.0323   3rd Qu.:  0.4843   3rd Qu.:  0.7516  \n",
       " Max.   :18.4748   Max.   : 25.6472   Max.   : 15.5046   Max.   : 24.4039  \n",
       "       V8                 V9                V10                V11         \n",
       " Min.   :-52.5927   Min.   :-17.5837   Min.   :-34.3610   Min.   :-8.9923  \n",
       " 1st Qu.: -1.0313   1st Qu.: -2.4771   1st Qu.: -4.8053   1st Qu.:-0.3396  \n",
       " Median :  0.1780   Median : -0.6670   Median : -0.8436   Median : 1.0169  \n",
       " Mean   :  0.3253   Mean   : -1.2512   Mean   : -2.7541   Mean   : 1.8677  \n",
       " 3rd Qu.:  1.6244   3rd Qu.:  0.5046   3rd Qu.:  0.3643   3rd Qu.: 3.5942  \n",
       " Max.   : 30.5749   Max.   :  9.0769   Max.   : 15.9467   Max.   :17.4902  \n",
       "      V12                V13                V14                V15           \n",
       " Min.   :-29.2403   Min.   :-5.03746   Min.   :-29.7303   Min.   :-6.648890  \n",
       " 1st Qu.: -5.6922   1st Qu.:-0.93131   1st Qu.: -6.8410   1st Qu.:-0.773228  \n",
       " Median : -0.8947   Median :-0.04901   Median : -1.0134   Median : 0.048218  \n",
       " Mean   : -3.0730   Mean   :-0.05289   Mean   : -3.4781   Mean   : 0.000958  \n",
       " 3rd Qu.:  0.4048   3rd Qu.: 0.83312   3rd Qu.:  0.2551   3rd Qu.: 0.833853  \n",
       " Max.   : 12.8828   Max.   : 5.50379   Max.   : 12.4446   Max.   : 5.074014  \n",
       "      V16                V17                V18                V19         \n",
       " Min.   :-23.0025   Min.   :-42.1617   Min.   :-14.7377   Min.   :-5.9498  \n",
       " 1st Qu.: -3.8718   1st Qu.: -6.1627   1st Qu.: -2.1466   1st Qu.:-0.5863  \n",
       " Median : -0.6349   Median : -0.5590   Median : -0.3939   Median : 0.2413  \n",
       " Mean   : -2.0609   Mean   : -3.3464   Mean   : -1.1071   Mean   : 0.3720  \n",
       " 3rd Qu.:  0.4494   3rd Qu.:  0.4437   3rd Qu.:  0.5915   3rd Qu.: 1.1964  \n",
       " Max.   : 10.9303   Max.   : 22.9978   Max.   : 10.7167   Max.   : 8.7469  \n",
       "      V20                 V21                 V22           \n",
       " Min.   :-20.48977   Min.   :-26.99058   Min.   :-12.17848  \n",
       " 1st Qu.: -0.48903   1st Qu.: -0.59434   1st Qu.: -0.71881  \n",
       " Median :  0.07049   Median :  0.08353   Median :  0.01940  \n",
       " Mean   :  0.17309   Mean   :  0.34196   Mean   :  0.01708  \n",
       " 3rd Qu.:  0.72777   3rd Qu.:  1.01250   3rd Qu.:  0.75897  \n",
       " Max.   : 13.48351   Max.   : 35.68289   Max.   : 11.02024  \n",
       "      V23                  V24                 V25          \n",
       " Min.   :-20.096975   Min.   :-3.507594   Min.   :-4.78825  \n",
       " 1st Qu.: -0.498845   1st Qu.:-0.477366   1st Qu.:-0.45359  \n",
       " Median :  0.005533   Median :-0.003947   Median : 0.03129  \n",
       " Mean   : -0.005922   Mean   :-0.038203   Mean   : 0.02586  \n",
       " 3rd Qu.:  0.522543   3rd Qu.: 0.435026   3rd Qu.: 0.51386  \n",
       " Max.   : 18.531592   Max.   : 3.877929   Max.   : 5.81041  \n",
       "      V26                 V27                 V28               Amount       \n",
       " Min.   :-2.305198   Min.   :-10.49064   Min.   :-8.46108   Min.   :-843.30  \n",
       " 1st Qu.:-0.379033   1st Qu.: -0.31123   1st Qu.:-0.22023   1st Qu.: -66.92  \n",
       " Median :-0.006403   Median :  0.06741   Median : 0.03525   Median :  68.27  \n",
       " Mean   : 0.019624   Mean   :  0.08153   Mean   : 0.02909   Mean   : 107.23  \n",
       " 3rd Qu.: 0.399610   3rd Qu.:  0.56111   3rd Qu.: 0.30163   3rd Qu.: 219.45  \n",
       " Max.   : 3.481189   Max.   :  8.44685   Max.   :15.88784   Max.   :4724.86  \n",
       "     Class       \n",
       " Min.   :0.0000  \n",
       " 1st Qu.:0.0000  \n",
       " Median :0.0000  \n",
       " Mean   :0.4979  \n",
       " 3rd Qu.:1.0000  \n",
       " Max.   :1.0000  "
      ]
     },
     "metadata": {},
     "output_type": "display_data"
    }
   ],
   "source": [
    "summary(data.rose)"
   ]
  },
  {
   "cell_type": "code",
   "execution_count": 11,
   "metadata": {},
   "outputs": [
    {
     "data": {
      "text/plain": [
       "      Time              V1                  V2                  V3           \n",
       " Min.   :     1   Min.   :-56.40751   Min.   :-72.71573   Min.   :-48.32559  \n",
       " 1st Qu.: 54411   1st Qu.: -0.91470   1st Qu.: -0.60390   1st Qu.: -0.89313  \n",
       " Median : 85012   Median :  0.02034   Median :  0.06350   Median :  0.18210  \n",
       " Mean   : 94891   Mean   : -0.00674   Mean   : -0.00633   Mean   : -0.00327  \n",
       " 3rd Qu.:139250   3rd Qu.:  1.31600   3rd Qu.:  0.80387   3rd Qu.:  1.03006  \n",
       " Max.   :172784   Max.   :  2.45189   Max.   : 22.05773   Max.   :  9.38256  \n",
       "       V4                  V5                   V6           \n",
       " Min.   :-5.683171   Min.   :-113.74331   Min.   :-26.16051  \n",
       " 1st Qu.:-0.855184   1st Qu.:  -0.69631   1st Qu.: -0.76710  \n",
       " Median :-0.017782   Median :  -0.05850   Median : -0.27214  \n",
       " Mean   :-0.000016   Mean   :  -0.00687   Mean   :  0.00189  \n",
       " 3rd Qu.: 0.742712   3rd Qu.:   0.61619   3rd Qu.:  0.39845  \n",
       " Max.   :16.715537   Max.   :  34.80167   Max.   : 73.30163  \n",
       "       V7                  V8                  V9            \n",
       " Min.   :-43.55724   Min.   :-73.21672   Min.   :-13.320155  \n",
       " 1st Qu.: -0.55922   1st Qu.: -0.21013   1st Qu.: -0.642949  \n",
       " Median :  0.03626   Median :  0.02166   Median : -0.050846  \n",
       " Mean   : -0.00094   Mean   : -0.00491   Mean   :  0.002511  \n",
       " 3rd Qu.:  0.57094   3rd Qu.:  0.32526   3rd Qu.:  0.598852  \n",
       " Max.   :120.58949   Max.   : 20.00721   Max.   : 15.594995  \n",
       "      V10                  V11                 V12           \n",
       " Min.   :-24.588262   Min.   :-4.682931   Min.   :-17.18292  \n",
       " 1st Qu.: -0.532985   1st Qu.:-0.763133   1st Qu.: -0.40938  \n",
       " Median : -0.096317   Median :-0.029324   Median :  0.13758  \n",
       " Mean   : -0.001203   Mean   : 0.002509   Mean   : -0.00389  \n",
       " 3rd Qu.:  0.452229   3rd Qu.: 0.745560   3rd Qu.:  0.61974  \n",
       " Max.   : 23.745136   Max.   :11.277921   Max.   :  7.84839  \n",
       "      V13                 V14                  V15           \n",
       " Min.   :-5.791881   Min.   :-18.392091   Min.   :-4.199321  \n",
       " 1st Qu.:-0.649807   1st Qu.: -0.434559   1st Qu.:-0.583973  \n",
       " Median :-0.011822   Median :  0.045335   Median : 0.042714  \n",
       " Mean   : 0.003303   Mean   : -0.005211   Mean   :-0.003834  \n",
       " 3rd Qu.: 0.671105   3rd Qu.:  0.488035   3rd Qu.: 0.639641  \n",
       " Max.   : 7.126883   Max.   : 10.526766   Max.   : 8.877742  \n",
       "      V16                  V17                  V18           \n",
       " Min.   :-14.129855   Min.   :-23.815636   Min.   :-9.170557  \n",
       " 1st Qu.: -0.464469   1st Qu.: -0.482178   1st Qu.:-0.495987  \n",
       " Median :  0.072000   Median : -0.061507   Median :-0.001868  \n",
       " Mean   :  0.004624   Mean   :  0.002632   Mean   : 0.000410  \n",
       " 3rd Qu.:  0.526670   3rd Qu.:  0.404299   3rd Qu.: 0.500231  \n",
       " Max.   : 17.315112   Max.   :  9.207059   Max.   : 5.041069  \n",
       "      V19                 V20                 V21           \n",
       " Min.   :-7.213527   Min.   :-54.49772   Min.   :-34.83038  \n",
       " 1st Qu.:-0.451755   1st Qu.: -0.21163   1st Qu.: -0.22908  \n",
       " Median : 0.005693   Median : -0.06101   Median : -0.03055  \n",
       " Mean   : 0.003208   Mean   :  0.00017   Mean   : -0.00211  \n",
       " 3rd Qu.: 0.464782   3rd Qu.:  0.13461   3rd Qu.:  0.18566  \n",
       " Max.   : 5.591971   Max.   : 39.42090   Max.   : 27.20284  \n",
       "      V22                  V23                 V24           \n",
       " Min.   :-10.933144   Min.   :-36.66600   Min.   :-2.775670  \n",
       " 1st Qu.: -0.543222   1st Qu.: -0.16182   1st Qu.:-0.355950  \n",
       " Median :  0.004626   Median : -0.01058   Median : 0.041000  \n",
       " Mean   : -0.002269   Mean   : -0.00056   Mean   : 0.000842  \n",
       " 3rd Qu.:  0.527323   3rd Qu.:  0.14801   3rd Qu.: 0.443143  \n",
       " Max.   : 10.503090   Max.   : 22.08354   Max.   : 4.584549  \n",
       "      V25                 V26                 V27            \n",
       " Min.   :-7.495741   Min.   :-2.534330   Min.   :-22.565679  \n",
       " 1st Qu.:-0.319664   1st Qu.:-0.325503   1st Qu.: -0.070900  \n",
       " Median : 0.011931   Median :-0.049071   Median :  0.001227  \n",
       " Mean   :-0.002813   Mean   : 0.001195   Mean   :  0.001454  \n",
       " 3rd Qu.: 0.349749   3rd Qu.: 0.242135   3rd Qu.:  0.092127  \n",
       " Max.   : 7.519589   Max.   : 3.415636   Max.   : 31.612198  \n",
       "      V28                Amount             Class         \n",
       " Min.   :-15.43008   Min.   :    0.00   Min.   :0.000000  \n",
       " 1st Qu.: -0.05300   1st Qu.:    5.49   1st Qu.:0.000000  \n",
       " Median :  0.01120   Median :   21.99   Median :0.000000  \n",
       " Mean   :  0.00125   Mean   :   89.57   Mean   :0.001838  \n",
       " 3rd Qu.:  0.07853   3rd Qu.:   76.98   3rd Qu.:0.000000  \n",
       " Max.   : 33.84781   Max.   :25691.16   Max.   :1.000000  "
      ]
     },
     "metadata": {},
     "output_type": "display_data"
    }
   ],
   "source": [
    "summary(test)"
   ]
  },
  {
   "cell_type": "code",
   "execution_count": 12,
   "metadata": {},
   "outputs": [
    {
     "name": "stderr",
     "output_type": "stream",
     "text": [
      "Loading required package: nnls\n",
      "Super Learner\n",
      "Version: 2.0-24\n",
      "Package created on 2018-08-10\n",
      "\n"
     ]
    }
   ],
   "source": [
    "library(\"SuperLearner\")\n"
   ]
  },
  {
   "cell_type": "code",
   "execution_count": 13,
   "metadata": {},
   "outputs": [],
   "source": [
    "    y <- data.rose$Class\n",
    "    ytest <- test$Class\n",
    "\n"
   ]
  },
  {
   "cell_type": "code",
   "execution_count": 14,
   "metadata": {},
   "outputs": [],
   "source": [
    "    x <- data.frame(data.rose[,1:30])\n",
    "    xtest <- data.frame(test[,1:30])"
   ]
  },
  {
   "cell_type": "code",
   "execution_count": 15,
   "metadata": {},
   "outputs": [
    {
     "name": "stderr",
     "output_type": "stream",
     "text": [
      "All prediction algorithm wrappers in SuperLearner:\n",
      "\n"
     ]
    },
    {
     "name": "stdout",
     "output_type": "stream",
     "text": [
      " [1] \"SL.bartMachine\"      \"SL.bayesglm\"         \"SL.biglasso\"        \n",
      " [4] \"SL.caret\"            \"SL.caret.rpart\"      \"SL.cforest\"         \n",
      " [7] \"SL.dbarts\"           \"SL.earth\"            \"SL.extraTrees\"      \n",
      "[10] \"SL.gam\"              \"SL.gbm\"              \"SL.glm\"             \n",
      "[13] \"SL.glm.interaction\"  \"SL.glmnet\"           \"SL.ipredbagg\"       \n",
      "[16] \"SL.kernelKnn\"        \"SL.knn\"              \"SL.ksvm\"            \n",
      "[19] \"SL.lda\"              \"SL.leekasso\"         \"SL.lm\"              \n",
      "[22] \"SL.loess\"            \"SL.logreg\"           \"SL.mean\"            \n",
      "[25] \"SL.nnet\"             \"SL.nnls\"             \"SL.polymars\"        \n",
      "[28] \"SL.qda\"              \"SL.randomForest\"     \"SL.ranger\"          \n",
      "[31] \"SL.ridge\"            \"SL.rpart\"            \"SL.rpartPrune\"      \n",
      "[34] \"SL.speedglm\"         \"SL.speedlm\"          \"SL.step\"            \n",
      "[37] \"SL.step.forward\"     \"SL.step.interaction\" \"SL.stepAIC\"         \n",
      "[40] \"SL.svm\"              \"SL.template\"         \"SL.xgboost\"         \n"
     ]
    },
    {
     "name": "stderr",
     "output_type": "stream",
     "text": [
      "\n",
      "All screening algorithm wrappers in SuperLearner:\n",
      "\n"
     ]
    },
    {
     "name": "stdout",
     "output_type": "stream",
     "text": [
      "[1] \"All\"\n",
      "[1] \"screen.corP\"           \"screen.corRank\"        \"screen.glmnet\"        \n",
      "[4] \"screen.randomForest\"   \"screen.SIS\"            \"screen.template\"      \n",
      "[7] \"screen.ttest\"          \"write.screen.template\"\n"
     ]
    }
   ],
   "source": [
    "    listWrappers()\n"
   ]
  },
  {
   "cell_type": "markdown",
   "metadata": {},
   "source": [
    "set.seed(150)\n",
    "    single.model <- SuperLearner(y,\n",
    "                                 x,\n",
    "                                 family=binomial(),\n",
    "                                 SL.library=list(\"SL.ranger\"))"
   ]
  },
  {
   "cell_type": "markdown",
   "metadata": {},
   "source": [
    "single.model"
   ]
  },
  {
   "cell_type": "code",
   "execution_count": 16,
   "metadata": {},
   "outputs": [
    {
     "name": "stderr",
     "output_type": "stream",
     "text": [
      "Loading required package: arm\n",
      "Loading required package: MASS\n",
      "\n",
      "Attaching package: 'MASS'\n",
      "\n",
      "The following object is masked from 'package:dplyr':\n",
      "\n",
      "    select\n",
      "\n",
      "Loading required package: lme4\n",
      "\n",
      "Attaching package: 'lme4'\n",
      "\n",
      "The following object is masked from 'package:modeltools':\n",
      "\n",
      "    refit\n",
      "\n",
      "\n",
      "arm (Version 1.10-1, built: 2018-4-12)\n",
      "\n",
      "Working directory is E:/Softwares/anaconda\n",
      "\n",
      "\n",
      "Attaching package: 'arm'\n",
      "\n",
      "The following object is masked from 'package:corrplot':\n",
      "\n",
      "    corrplot\n",
      "\n",
      "Loading required package: e1071\n",
      "\n",
      "Attaching package: 'e1071'\n",
      "\n",
      "The following object is masked from 'package:Hmisc':\n",
      "\n",
      "    impute\n",
      "\n",
      "Warning message:\n",
      "\"fitted probabilities numerically 0 or 1 occurred\"Warning message:\n",
      "\"fitted probabilities numerically 0 or 1 occurred\"Warning message:\n",
      "\"fitted probabilities numerically 0 or 1 occurred\"Warning message:\n",
      "\"fitted probabilities numerically 0 or 1 occurred\"Warning message:\n",
      "\"fitted probabilities numerically 0 or 1 occurred\"Warning message:\n",
      "\"fitted probabilities numerically 0 or 1 occurred\"Warning message:\n",
      "\"fitted probabilities numerically 0 or 1 occurred\"Warning message:\n",
      "\"fitted probabilities numerically 0 or 1 occurred\"Warning message:\n",
      "\"fitted probabilities numerically 0 or 1 occurred\"Warning message:\n",
      "\"fitted probabilities numerically 0 or 1 occurred\""
     ]
    },
    {
     "data": {
      "text/plain": [
       "\n",
       "Call:  \n",
       "SuperLearner(Y = y, X = x, family = binomial(), SL.library = c(\"SL.svm\",  \n",
       "    \"SL.bayesglm\", \"SL.randomForest\")) \n",
       "\n",
       "\n",
       "                          Risk Coef\n",
       "SL.svm_All          0.03058127    0\n",
       "SL.bayesglm_All     0.05601964    0\n",
       "SL.randomForest_All 0.00456709    1"
      ]
     },
     "metadata": {},
     "output_type": "display_data"
    }
   ],
   "source": [
    "set.seed(1)\n",
    "sl = SuperLearner(Y = y, X = x, family = binomial(),\n",
    "                  SL.library = c(\"SL.svm\", \"SL.bayesglm\", \"SL.randomForest\"))\n",
    "sl"
   ]
  },
  {
   "cell_type": "code",
   "execution_count": 17,
   "metadata": {},
   "outputs": [
    {
     "data": {
      "text/plain": [
       "    user   system  elapsed \n",
       "12813.46    10.77 12825.44 "
      ]
     },
     "metadata": {},
     "output_type": "display_data"
    }
   ],
   "source": [
    "sl$times$everything\n"
   ]
  },
  {
   "cell_type": "code",
   "execution_count": 18,
   "metadata": {},
   "outputs": [],
   "source": [
    "pred = predict(sl, test, onlySL = T, type=class)\n"
   ]
  },
  {
   "cell_type": "code",
   "execution_count": 19,
   "metadata": {},
   "outputs": [
    {
     "name": "stdout",
     "output_type": "stream",
     "text": [
      "List of 2\n",
      " $ pred           : num [1:85974, 1] 0 0 0 0 0 0 0 0 0.002 0 ...\n",
      " $ library.predict: num [1:85974, 1:3] 0 0 0 0 0 0 0 0 0 0 ...\n"
     ]
    }
   ],
   "source": [
    "str(pred)\n"
   ]
  },
  {
   "cell_type": "code",
   "execution_count": 20,
   "metadata": {},
   "outputs": [
    {
     "data": {
      "text/plain": [
       "       V1          V2          V3         \n",
       " Min.   :0   Min.   :0   Min.   :0.00000  \n",
       " 1st Qu.:0   1st Qu.:0   1st Qu.:0.00000  \n",
       " Median :0   Median :0   Median :0.00000  \n",
       " Mean   :0   Mean   :0   Mean   :0.01032  \n",
       " 3rd Qu.:0   3rd Qu.:0   3rd Qu.:0.00000  \n",
       " Max.   :0   Max.   :0   Max.   :1.00000  "
      ]
     },
     "metadata": {},
     "output_type": "display_data"
    }
   ],
   "source": [
    "summary(pred$library.predict)\n"
   ]
  },
  {
   "cell_type": "code",
   "execution_count": null,
   "metadata": {},
   "outputs": [],
   "source": [
    "pred = predict(sl, test, onlySL = T, type=class)\n"
   ]
  },
  {
   "cell_type": "code",
   "execution_count": 21,
   "metadata": {},
   "outputs": [
    {
     "data": {
      "text/plain": [
       "Area under the curve (AUC): 0.949"
      ]
     },
     "metadata": {},
     "output_type": "display_data"
    },
    {
     "data": {
      "image/png": "[encoded data removed]",
      "text/plain": [
       "Plot with title \"ROC curve\""
      ]
     },
     "metadata": {},
     "output_type": "display_data"
    }
   ],
   "source": [
    "roc.curve(test$Class, pred$pred, plotit = T)\n"
   ]
  },
  {
   "cell_type": "code",
   "execution_count": null,
   "metadata": {},
   "outputs": [],
   "source": []
  }
 ],
 "metadata": {
  "kernelspec": {
   "display_name": "R",
   "language": "R",
   "name": "ir"
  },
  "language_info": {
   "codemirror_mode": "r",
   "file_extension": ".r",
   "mimetype": "text/x-r-source",
   "name": "R",
   "pygments_lexer": "r",
   "version": "3.5.1"
  }
 },
 "nbformat": 4,
 "nbformat_minor": 2
}
