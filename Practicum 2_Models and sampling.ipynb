{
 "cells": [
  {
   "cell_type": "code",
   "execution_count": 2,
   "metadata": {},
   "outputs": [
    {
     "name": "stderr",
     "output_type": "stream",
     "text": [
      "\n",
      "Attaching package: 'dplyr'\n",
      "\n",
      "The following objects are masked from 'package:stats':\n",
      "\n",
      "    filter, lag\n",
      "\n",
      "The following objects are masked from 'package:base':\n",
      "\n",
      "    intersect, setdiff, setequal, union\n",
      "\n",
      "randomForest 4.6-14\n",
      "Type rfNews() to see new features/changes/bug fixes.\n",
      "\n",
      "Attaching package: 'randomForest'\n",
      "\n",
      "The following object is masked from 'package:dplyr':\n",
      "\n",
      "    combine\n",
      "\n",
      "The following object is masked from 'package:ggplot2':\n",
      "\n",
      "    margin\n",
      "\n",
      "Loading required package: survival\n",
      "\n",
      "Attaching package: 'survival'\n",
      "\n",
      "The following object is masked from 'package:caret':\n",
      "\n",
      "    cluster\n",
      "\n",
      "Loading required package: Formula\n",
      "\n",
      "Attaching package: 'Hmisc'\n",
      "\n",
      "The following objects are masked from 'package:dplyr':\n",
      "\n",
      "    src, summarize\n",
      "\n",
      "The following objects are masked from 'package:base':\n",
      "\n",
      "    format.pval, units\n",
      "\n",
      "Loading required package: grid\n",
      "Loading required package: mvtnorm\n",
      "Loading required package: modeltools\n",
      "Loading required package: stats4\n",
      "Loading required package: strucchange\n",
      "Loading required package: zoo\n",
      "\n",
      "Attaching package: 'zoo'\n",
      "\n",
      "The following objects are masked from 'package:base':\n",
      "\n",
      "    as.Date, as.Date.numeric\n",
      "\n",
      "Loading required package: sandwich\n",
      "\n",
      "Attaching package: 'data.table'\n",
      "\n",
      "The following objects are masked from 'package:dplyr':\n",
      "\n",
      "    between, first, last\n",
      "\n",
      "------------------------------------------------------------------------------\n",
      "You have loaded plyr after dplyr - this is likely to cause problems.\n",
      "If you need functions from both plyr and dplyr, please load plyr first, then dplyr:\n",
      "library(plyr); library(dplyr)\n",
      "------------------------------------------------------------------------------\n",
      "\n",
      "Attaching package: 'plyr'\n",
      "\n",
      "The following object is masked from 'package:modeltools':\n",
      "\n",
      "    empty\n",
      "\n",
      "The following objects are masked from 'package:Hmisc':\n",
      "\n",
      "    is.discrete, summarize\n",
      "\n",
      "The following objects are masked from 'package:dplyr':\n",
      "\n",
      "    arrange, count, desc, failwith, id, mutate, rename, summarise,\n",
      "    summarize\n",
      "\n",
      "corrplot 0.84 loaded\n",
      "Type 'citation(\"pROC\")' for a citation.\n",
      "\n",
      "Attaching package: 'pROC'\n",
      "\n",
      "The following objects are masked from 'package:stats':\n",
      "\n",
      "    cov, smooth, var\n",
      "\n",
      "Loading required package: Matrix\n",
      "Loading required package: foreach\n",
      "Loaded glmnet 2.0-16\n",
      "\n",
      "\n",
      "Attaching package: 'glmnet'\n",
      "\n",
      "The following object is masked from 'package:pROC':\n",
      "\n",
      "    auc\n",
      "\n",
      "Loading required package: iterators\n",
      "Loading required package: parallel\n"
     ]
    }
   ],
   "source": [
    "# List of packages used\n",
    "library(readr)\n",
    "library(dplyr)\n",
    "library(randomForest)\n",
    "library(Hmisc)\n",
    "library(party)\n",
    "library(data.table)\n",
    "library(ggplot2)\n",
    "library(plyr)\n",
    "library(dplyr)\n",
    "library(corrplot)\n",
    "library(pROC)\n",
    "library(glmnet)\n",
    "library(caret)\n",
    "library(Rtsne)\n",
    "library(doMC)\n",
    "library(\"ROSE\")\n",
    "library(class)\n",
    "library(naivebayes)\n",
    "library(ROCR)\n",
    "library(rpart)\n",
    "library(ranger)"
   ]
  },
  {
   "cell_type": "code",
   "execution_count": 3,
   "metadata": {},
   "outputs": [],
   "source": [
    "data <- read.csv(\"creditcard.csv\")\n"
   ]
  },
  {
   "cell_type": "code",
   "execution_count": 3,
   "metadata": {},
   "outputs": [
    {
     "name": "stdout",
     "output_type": "stream",
     "text": [
      "Observations: 284,807\n",
      "Variables: 31\n",
      "$ Time   <dbl> 0, 0, 1, 1, 2, 2, 4, 7, 7, 9, 10, 10, 10, 11, 12, 12, 12, 13...\n",
      "$ V1     <dbl> -1.3598071, 1.1918571, -1.3583541, -0.9662717, -1.1582331, -...\n",
      "$ V2     <dbl> -0.07278117, 0.26615071, -1.34016307, -0.18522601, 0.8777367...\n",
      "$ V3     <dbl> 2.53634674, 0.16648011, 1.77320934, 1.79299334, 1.54871785, ...\n",
      "$ V4     <dbl> 1.37815522, 0.44815408, 0.37977959, -0.86329128, 0.40303393,...\n",
      "$ V5     <dbl> -0.33832077, 0.06001765, -0.50319813, -0.01030888, -0.407193...\n",
      "$ V6     <dbl> 0.46238778, -0.08236081, 1.80049938, 1.24720317, 0.09592146,...\n",
      "$ V7     <dbl> 0.239598554, -0.078802983, 0.791460956, 0.237608940, 0.59294...\n",
      "$ V8     <dbl> 0.098697901, 0.085101655, 0.247675787, 0.377435875, -0.27053...\n",
      "$ V9     <dbl> 0.3637870, -0.2554251, -1.5146543, -1.3870241, 0.8177393, -0...\n",
      "$ V10    <dbl> 0.09079417, -0.16697441, 0.20764287, -0.05495192, 0.75307443...\n",
      "$ V11    <dbl> -0.55159953, 1.61272666, 0.62450146, -0.22648726, -0.8228428...\n",
      "$ V12    <dbl> -0.61780086, 1.06523531, 0.06608369, 0.17822823, 0.53819555,...\n",
      "$ V13    <dbl> -0.99138985, 0.48909502, 0.71729273, 0.50775687, 1.34585159,...\n",
      "$ V14    <dbl> -0.31116935, -0.14377230, -0.16594592, -0.28792375, -1.11966...\n",
      "$ V15    <dbl> 1.468176972, 0.635558093, 2.345864949, -0.631418118, 0.17512...\n",
      "$ V16    <dbl> -0.47040053, 0.46391704, -2.89008319, -1.05964725, -0.451449...\n",
      "$ V17    <dbl> 0.207971242, -0.114804663, 1.109969379, -0.684092786, -0.237...\n",
      "$ V18    <dbl> 0.02579058, -0.18336127, -0.12135931, 1.96577500, -0.0381947...\n",
      "$ V19    <dbl> 0.40399296, -0.14578304, -2.26185710, -1.23262197, 0.8034869...\n",
      "$ V20    <dbl> 0.25141210, -0.06908314, 0.52497973, -0.20803778, 0.40854236...\n",
      "$ V21    <dbl> -0.018306778, -0.225775248, 0.247998153, -0.108300452, -0.00...\n",
      "$ V22    <dbl> 0.277837576, -0.638671953, 0.771679402, 0.005273597, 0.79827...\n",
      "$ V23    <dbl> -0.110473910, 0.101288021, 0.909412262, -0.190320519, -0.137...\n",
      "$ V24    <dbl> 0.06692807, -0.33984648, -0.68928096, -1.17557533, 0.1412669...\n",
      "$ V25    <dbl> 0.12853936, 0.16717040, -0.32764183, 0.64737603, -0.20600959...\n",
      "$ V26    <dbl> -0.18911484, 0.12589453, -0.13909657, -0.22192884, 0.5022922...\n",
      "$ V27    <dbl> 0.133558377, -0.008983099, -0.055352794, 0.062722849, 0.2194...\n",
      "$ V28    <dbl> -0.021053053, 0.014724169, -0.059751841, 0.061457629, 0.2151...\n",
      "$ Amount <dbl> 149.62, 2.69, 378.66, 123.50, 69.99, 3.67, 4.99, 40.80, 93.2...\n",
      "$ Class  <int> 0, 0, 0, 0, 0, 0, 0, 0, 0, 0, 0, 0, 0, 0, 0, 0, 0, 0, 0, 0, ...\n"
     ]
    }
   ],
   "source": [
    "glimpse(data)\n"
   ]
  },
  {
   "cell_type": "code",
   "execution_count": 4,
   "metadata": {},
   "outputs": [],
   "source": [
    "data$Class <- factor(data$Class)\n"
   ]
  },
  {
   "cell_type": "code",
   "execution_count": 5,
   "metadata": {},
   "outputs": [
    {
     "data": {
      "text/plain": [
       "\n",
       "     0      1 \n",
       "284315    492 "
      ]
     },
     "metadata": {},
     "output_type": "display_data"
    }
   ],
   "source": [
    "table(data$Class)"
   ]
  },
  {
   "cell_type": "code",
   "execution_count": 6,
   "metadata": {},
   "outputs": [],
   "source": [
    "#Creating test and train sets\n",
    "\n",
    "index <- sample(2,nrow(data),prob = c(0.7,0.3),replace = TRUE)\n"
   ]
  },
  {
   "cell_type": "code",
   "execution_count": 7,
   "metadata": {},
   "outputs": [],
   "source": [
    "train <- data[index==1,]\n",
    "test <- data[index==2,]"
   ]
  },
  {
   "cell_type": "code",
   "execution_count": 8,
   "metadata": {},
   "outputs": [
    {
     "data": {
      "text/plain": [
       "\n",
       "     0      1 \n",
       "198432    343 "
      ]
     },
     "metadata": {},
     "output_type": "display_data"
    },
    {
     "data": {
      "text/plain": [
       "\n",
       "    0     1 \n",
       "85883   149 "
      ]
     },
     "metadata": {},
     "output_type": "display_data"
    }
   ],
   "source": [
    "table(train$Class)\n",
    "table(test$Class)"
   ]
  },
  {
   "cell_type": "code",
   "execution_count": 9,
   "metadata": {},
   "outputs": [],
   "source": [
    "#Building a random forest model using the train data\n",
    "\n",
    "rfModel <- randomForest(Class ~ . , data = train)"
   ]
  },
  {
   "cell_type": "code",
   "execution_count": 10,
   "metadata": {},
   "outputs": [],
   "source": [
    "test$predicted <- predict(rfModel, test)\n"
   ]
  },
  {
   "cell_type": "code",
   "execution_count": 27,
   "metadata": {},
   "outputs": [
    {
     "data": {
      "text/plain": [
       "Area under the curve (AUC): 0.852"
      ]
     },
     "metadata": {},
     "output_type": "display_data"
    },
    {
     "data": {
      "image/png": "[encoded data removed]",
      "text/plain": [
       "Plot with title \"ROC curve\""
      ]
     },
     "metadata": {},
     "output_type": "display_data"
    }
   ],
   "source": [
    "# Area under the curve for the random forest model\n",
    "\n",
    "roc.curve(test$Class, test$predicted, plotit = T)\n"
   ]
  },
  {
   "cell_type": "code",
   "execution_count": 12,
   "metadata": {},
   "outputs": [
    {
     "data": {
      "text/plain": [
       "Confusion Matrix and Statistics\n",
       "\n",
       "          Reference\n",
       "Prediction     0     1\n",
       "         0 85878     5\n",
       "         1    44   105\n",
       "                                          \n",
       "               Accuracy : 0.9994          \n",
       "                 95% CI : (0.9992, 0.9996)\n",
       "    No Information Rate : 0.9987          \n",
       "    P-Value [Acc > NIR] : 5.163e-11       \n",
       "                                          \n",
       "                  Kappa : 0.8105          \n",
       " Mcnemar's Test P-Value : 5.681e-08       \n",
       "                                          \n",
       "            Sensitivity : 0.9995          \n",
       "            Specificity : 0.9545          \n",
       "         Pos Pred Value : 0.9999          \n",
       "         Neg Pred Value : 0.7047          \n",
       "             Prevalence : 0.9987          \n",
       "         Detection Rate : 0.9982          \n",
       "   Detection Prevalence : 0.9983          \n",
       "      Balanced Accuracy : 0.9770          \n",
       "                                          \n",
       "       'Positive' Class : 0               \n",
       "                                          "
      ]
     },
     "metadata": {},
     "output_type": "display_data"
    }
   ],
   "source": [
    "library(caret)\n",
    "confusionMatrix(test$Class, test$predicted)"
   ]
  },
  {
   "cell_type": "code",
   "execution_count": 11,
   "metadata": {},
   "outputs": [
    {
     "name": "stderr",
     "output_type": "stream",
     "text": [
      "\n",
      "Attaching package: 'MLmetrics'\n",
      "\n",
      "The following objects are masked from 'package:caret':\n",
      "\n",
      "    MAE, RMSE\n",
      "\n",
      "The following object is masked from 'package:base':\n",
      "\n",
      "    Recall\n",
      "\n"
     ]
    }
   ],
   "source": [
    "# Using the package MLmetrics to use the features like varImpPlot(Variable importance plot)\n",
    "\n",
    "library(MLmetrics)\n"
   ]
  },
  {
   "cell_type": "code",
   "execution_count": 12,
   "metadata": {},
   "outputs": [
    {
     "data": {
      "text/html": [
       "0.999759207381175"
      ],
      "text/latex": [
       "0.999759207381175"
      ],
      "text/markdown": [
       "0.999759207381175"
      ],
      "text/plain": [
       "[1] 0.9997592"
      ]
     },
     "metadata": {},
     "output_type": "display_data"
    }
   ],
   "source": [
    "F1_all <- F1_Score(test$Class, test$predicted)\n",
    "F1_all"
   ]
  },
  {
   "cell_type": "code",
   "execution_count": 13,
   "metadata": {},
   "outputs": [
    {
     "data": {
      "image/png": "[encoded data removed]",
      "text/plain": [
       "Plot with title \"Top 10 Most Important Variables\""
      ]
     },
     "metadata": {},
     "output_type": "display_data"
    }
   ],
   "source": [
    "# Feature importance using the random forest and varImpPlot\n",
    "\n",
    "options(repr.plot.width=5, repr.plot.height=4)\n",
    "    varImpPlot(rfModel,\n",
    "          sort = T,\n",
    "           n.var=10,\n",
    "           main=\"Top 10 Most Important Variables\")"
   ]
  },
  {
   "cell_type": "markdown",
   "metadata": {},
   "source": [
    "# Tuning the random forest model using features"
   ]
  },
  {
   "cell_type": "code",
   "execution_count": 14,
   "metadata": {},
   "outputs": [
    {
     "data": {
      "text/html": [
       "0.999118953081315"
      ],
      "text/latex": [
       "0.999118953081315"
      ],
      "text/markdown": [
       "0.999118953081315"
      ],
      "text/plain": [
       "[1] 0.999119"
      ]
     },
     "metadata": {},
     "output_type": "display_data"
    }
   ],
   "source": [
    "rfModelTrim1 <- randomForest(Class ~  V17, \n",
    "                            data = train)\n",
    "\n",
    "test$predictedTrim1 <- predict(rfModelTrim1, test)\n",
    "\n",
    "F1_1 <- F1_Score(test$Class, test$predictedTrim1)\n",
    "F1_1"
   ]
  },
  {
   "cell_type": "code",
   "execution_count": 15,
   "metadata": {},
   "outputs": [
    {
     "data": {
      "text/html": [
       "0.999594735080084"
      ],
      "text/latex": [
       "0.999594735080084"
      ],
      "text/markdown": [
       "0.999594735080084"
      ],
      "text/plain": [
       "[1] 0.9995947"
      ]
     },
     "metadata": {},
     "output_type": "display_data"
    }
   ],
   "source": [
    "rfModelTrim2 <- randomForest(Class ~  V17 + V12, \n",
    "                            data = train)\n",
    "\n",
    "test$predictedTrim2 <- predict(rfModelTrim2, test)\n",
    "\n",
    "F1_2 <- F1_Score(test$Class, test$predictedTrim2)\n",
    "F1_2"
   ]
  },
  {
   "cell_type": "code",
   "execution_count": 16,
   "metadata": {},
   "outputs": [
    {
     "data": {
      "text/html": [
       "0.99969459192783"
      ],
      "text/latex": [
       "0.99969459192783"
      ],
      "text/markdown": [
       "0.99969459192783"
      ],
      "text/plain": [
       "[1] 0.9996946"
      ]
     },
     "metadata": {},
     "output_type": "display_data"
    }
   ],
   "source": [
    "rfModelTrim3 <- randomForest(Class ~  V17 + V12 + V14, \n",
    "                            data = train)\n",
    "\n",
    "test$predictedTrim3 <- predict(rfModelTrim3, test)\n",
    "\n",
    "F1_3 <- F1_Score(test$Class, test$predictedTrim3)\n",
    "F1_3"
   ]
  },
  {
   "cell_type": "code",
   "execution_count": 17,
   "metadata": {},
   "outputs": [
    {
     "data": {
      "text/html": [
       "0.999712206553468"
      ],
      "text/latex": [
       "0.999712206553468"
      ],
      "text/markdown": [
       "0.999712206553468"
      ],
      "text/plain": [
       "[1] 0.9997122"
      ]
     },
     "metadata": {},
     "output_type": "display_data"
    }
   ],
   "source": [
    "# four variables\n",
    "rfModelTrim4 <- randomForest(Class ~  V17 + V12 + V14 + V10, \n",
    "                            data = train)\n",
    "\n",
    "test$predictedTrim4 <- predict(rfModelTrim4, test)\n",
    "\n",
    "F1_4 <- F1_Score(test$Class, test$predictedTrim4)\n",
    "F1_4"
   ]
  },
  {
   "cell_type": "code",
   "execution_count": 18,
   "metadata": {},
   "outputs": [
    {
     "data": {
      "text/html": [
       "0.99972982497357"
      ],
      "text/latex": [
       "0.99972982497357"
      ],
      "text/markdown": [
       "0.99972982497357"
      ],
      "text/plain": [
       "[1] 0.9997298"
      ]
     },
     "metadata": {},
     "output_type": "display_data"
    }
   ],
   "source": [
    "# five variables\n",
    "rfModelTrim5 <- randomForest(Class ~  V17 + V12 + V14 + V10 + V16, \n",
    "                            data = train)\n",
    "\n",
    "test$predictedTrim5 <- predict(rfModelTrim5, test)\n",
    "\n",
    "F1_5 <- F1_Score(test$Class, test$predictedTrim5)\n",
    "F1_5"
   ]
  },
  {
   "cell_type": "code",
   "execution_count": 19,
   "metadata": {},
   "outputs": [
    {
     "data": {
      "text/html": [
       "0.999741583856039"
      ],
      "text/latex": [
       "0.999741583856039"
      ],
      "text/markdown": [
       "0.999741583856039"
      ],
      "text/plain": [
       "[1] 0.9997416"
      ]
     },
     "metadata": {},
     "output_type": "display_data"
    }
   ],
   "source": [
    "# ten variables\n",
    "rfModelTrim10 <- randomForest(Class ~  V17 + V12 + V14 + V10 + V16 \n",
    "                              + V11 + V9 + V4 + V18 + V26, \n",
    "                            data = train)\n",
    "\n",
    "test$predictedTrim10 <- predict(rfModelTrim10, test)\n",
    "\n",
    "F1_10 <- F1_Score(test$Class, test$predictedTrim10)\n",
    "F1_10"
   ]
  },
  {
   "cell_type": "code",
   "execution_count": 20,
   "metadata": {},
   "outputs": [],
   "source": [
    "# build dataframe of number of variables and scores\n",
    "numVariables <- c(1,2,3,4,5,10,17)\n",
    "F1_Score <- c(F1_1, F1_2, F1_3, F1_4, F1_5, F1_10, F1_all)\n",
    "variablePerf <- data.frame(numVariables, F1_Score)"
   ]
  },
  {
   "cell_type": "code",
   "execution_count": 21,
   "metadata": {},
   "outputs": [
    {
     "data": {},
     "metadata": {},
     "output_type": "display_data"
    },
    {
     "data": {
      "image/png": "[encoded data removed]",
      "text/plain": [
       "plot without title"
      ]
     },
     "metadata": {},
     "output_type": "display_data"
    }
   ],
   "source": [
    "# plot score performance against number of variables\n",
    "options(repr.plot.width=4, repr.plot.height=3)\n",
    "ggplot(variablePerf, aes(numVariables, F1_Score)) + geom_point() + labs(x = \"Number of Variables\", y = \"F1 Score\", title = \"F1 Score Performance\")"
   ]
  },
  {
   "cell_type": "code",
   "execution_count": 22,
   "metadata": {},
   "outputs": [
    {
     "name": "stderr",
     "output_type": "stream",
     "text": [
      "Loaded ROSE 0.0-3\n",
      "\n"
     ]
    }
   ],
   "source": [
    "library(\"ROSE\")"
   ]
  },
  {
   "cell_type": "code",
   "execution_count": 23,
   "metadata": {},
   "outputs": [
    {
     "name": "stdout",
     "output_type": "stream",
     "text": [
      "'data.frame':\t199526 obs. of  31 variables:\n",
      " $ Time  : num  0 0 2 2 7 7 10 10 11 12 ...\n",
      " $ V1    : num  -1.36 1.192 -1.158 -0.426 -0.644 ...\n",
      " $ V2    : num  -0.0728 0.2662 0.8777 0.9605 1.418 ...\n",
      " $ V3    : num  2.536 0.166 1.549 1.141 1.074 ...\n",
      " $ V4    : num  1.378 0.448 0.403 -0.168 -0.492 ...\n",
      " $ V5    : num  -0.338 0.06 -0.407 0.421 0.949 ...\n",
      " $ V6    : num  0.4624 -0.0824 0.0959 -0.0297 0.4281 ...\n",
      " $ V7    : num  0.2396 -0.0788 0.5929 0.4762 1.1206 ...\n",
      " $ V8    : num  0.0987 0.0851 -0.2705 0.2603 -3.8079 ...\n",
      " $ V9    : num  0.364 -0.255 0.818 -0.569 0.615 ...\n",
      " $ V10   : num  0.0908 -0.167 0.7531 -0.3714 1.2494 ...\n",
      " $ V11   : num  -0.552 1.613 -0.823 1.341 -0.619 ...\n",
      " $ V12   : num  -0.618 1.065 0.538 0.36 0.291 ...\n",
      " $ V13   : num  -0.991 0.489 1.346 -0.358 1.758 ...\n",
      " $ V14   : num  -0.311 -0.144 -1.12 -0.137 -1.324 ...\n",
      " $ V15   : num  1.468 0.636 0.175 0.518 0.686 ...\n",
      " $ V16   : num  -0.4704 0.4639 -0.4514 0.4017 -0.0761 ...\n",
      " $ V17   : num  0.208 -0.1148 -0.237 -0.0581 -1.2221 ...\n",
      " $ V18   : num  0.0258 -0.1834 -0.0382 0.0687 -0.3582 ...\n",
      " $ V19   : num  0.404 -0.1458 0.8035 -0.0332 0.3245 ...\n",
      " $ V20   : num  0.2514 -0.0691 0.4085 0.085 -0.1567 ...\n",
      " $ V21   : num  -0.01831 -0.22578 -0.00943 -0.20825 1.94347 ...\n",
      " $ V22   : num  0.278 -0.639 0.798 -0.56 -1.015 ...\n",
      " $ V23   : num  -0.1105 0.1013 -0.1375 -0.0264 0.0575 ...\n",
      " $ V24   : num  0.0669 -0.3398 0.1413 -0.3714 -0.6497 ...\n",
      " $ V25   : num  0.129 0.167 -0.206 -0.233 -0.415 ...\n",
      " $ V26   : num  -0.1891 0.1259 0.5023 0.1059 -0.0516 ...\n",
      " $ V27   : num  0.13356 -0.00898 0.21942 0.25384 -1.20692 ...\n",
      " $ V28   : num  -0.0211 0.0147 0.2152 0.0811 -1.0853 ...\n",
      " $ Amount: num  149.62 2.69 69.99 3.67 40.8 ...\n",
      " $ Class : Factor w/ 2 levels \"0\",\"1\": 1 1 1 1 1 1 1 1 1 1 ...\n"
     ]
    }
   ],
   "source": [
    "str(train)"
   ]
  },
  {
   "cell_type": "code",
   "execution_count": 24,
   "metadata": {},
   "outputs": [
    {
     "data": {
      "text/plain": [
       "\n",
       "     0      1 \n",
       "199192    334 "
      ]
     },
     "metadata": {},
     "output_type": "display_data"
    },
    {
     "data": {
      "text/plain": [
       "\n",
       "    0     1 \n",
       "85123   158 "
      ]
     },
     "metadata": {},
     "output_type": "display_data"
    }
   ],
   "source": [
    "table(train$Class)\n",
    "table(test$Class)"
   ]
  },
  {
   "cell_type": "code",
   "execution_count": 25,
   "metadata": {},
   "outputs": [
    {
     "data": {
      "text/plain": [
       "\n",
       "          0           1 \n",
       "0.998326033 0.001673967 "
      ]
     },
     "metadata": {},
     "output_type": "display_data"
    }
   ],
   "source": [
    "prop.table(table(train$Class))"
   ]
  },
  {
   "cell_type": "code",
   "execution_count": 26,
   "metadata": {},
   "outputs": [
    {
     "name": "stderr",
     "output_type": "stream",
     "text": [
      "\n",
      "Attaching package: 'rpart'\n",
      "\n",
      "The following object is masked from 'package:survival':\n",
      "\n",
      "    solder\n",
      "\n"
     ]
    }
   ],
   "source": [
    "library(\"rpart\")"
   ]
  },
  {
   "cell_type": "code",
   "execution_count": 27,
   "metadata": {},
   "outputs": [],
   "source": [
    "credit_tree <- rpart(Class ~ . , data = train)"
   ]
  },
  {
   "cell_type": "code",
   "execution_count": 28,
   "metadata": {},
   "outputs": [],
   "source": [
    "pred_credit_tree <- predict(credit_tree, newdata = test)"
   ]
  },
  {
   "cell_type": "code",
   "execution_count": 31,
   "metadata": {},
   "outputs": [
    {
     "data": {
      "text/plain": [
       "Area under the curve (AUC): 0.908"
      ]
     },
     "metadata": {},
     "output_type": "display_data"
    },
    {
     "data": {
      "image/png": "[encoded data removed]",
      "text/plain": [
       "Plot with title \"ROC curve\""
      ]
     },
     "metadata": {},
     "output_type": "display_data"
    }
   ],
   "source": [
    "# Area under the curve for rpart model\n",
    "\n",
    "roc.curve(test$Class, pred_credit_tree[,2], plotit = T)\n"
   ]
  },
  {
   "cell_type": "code",
   "execution_count": 32,
   "metadata": {},
   "outputs": [
    {
     "data": {
      "text/plain": [
       "\n",
       "     0      1 \n",
       "199192 100808 "
      ]
     },
     "metadata": {},
     "output_type": "display_data"
    }
   ],
   "source": [
    "#over sampling\n",
    "data_balanced_over <- ovun.sample(Class ~ ., data = train, method = \"over\",N = 300000)$data\n",
    "\n",
    "table(data_balanced_over$Class)"
   ]
  },
  {
   "cell_type": "code",
   "execution_count": 33,
   "metadata": {},
   "outputs": [
    {
     "data": {
      "text/plain": [
       "\n",
       "    0     1 \n",
       "29666   334 "
      ]
     },
     "metadata": {},
     "output_type": "display_data"
    }
   ],
   "source": [
    "#under sampling\n",
    "data_balanced_under <- ovun.sample(Class ~ ., data = train, method = \"under\", N = 30000, seed = 1)$data\n",
    "\n",
    "table(data_balanced_under$Class)"
   ]
  },
  {
   "cell_type": "code",
   "execution_count": 34,
   "metadata": {},
   "outputs": [
    {
     "data": {
      "text/plain": [
       "\n",
       "   0    1 \n",
       "5047 4953 "
      ]
     },
     "metadata": {},
     "output_type": "display_data"
    }
   ],
   "source": [
    "data_balanced_both <- ovun.sample(Class ~ ., data = train, method = \"both\", p=0.5,N=10000, seed = 1)$data\n",
    "table(data_balanced_both$Class)"
   ]
  },
  {
   "cell_type": "code",
   "execution_count": 49,
   "metadata": {},
   "outputs": [
    {
     "data": {
      "text/plain": [
       "\n",
       "    0     1 \n",
       "50008 49992 "
      ]
     },
     "metadata": {},
     "output_type": "display_data"
    }
   ],
   "source": [
    "data.rose <- ROSE(Class ~ ., data = train, seed = 1,N = 100000)$data\n",
    "table(data.rose$Class)"
   ]
  },
  {
   "cell_type": "code",
   "execution_count": 50,
   "metadata": {},
   "outputs": [],
   "source": [
    "#building decision tree models\n",
    "\n",
    "tree.rose <- rpart(Class ~ ., data = data.rose)\n",
    "tree.over <- rpart(Class ~ ., data = data_balanced_over)\n",
    "tree.under <- rpart(Class ~ ., data = data_balanced_under)\n",
    "tree.both <- rpart(Class ~ ., data = data_balanced_both)"
   ]
  },
  {
   "cell_type": "code",
   "execution_count": 51,
   "metadata": {},
   "outputs": [],
   "source": [
    "# predictions on unseen data\n",
    "pred.tree.rose <- predict(tree.rose, newdata = test)\n",
    "pred.tree.over <- predict(tree.over, newdata = test)\n",
    "pred.tree.under <- predict(tree.under, newdata = test)\n",
    "pred.tree.both <- predict(tree.both, newdata = test)"
   ]
  },
  {
   "cell_type": "code",
   "execution_count": 52,
   "metadata": {},
   "outputs": [
    {
     "data": {
      "text/plain": [
       "Area under the curve (AUC): 0.943"
      ]
     },
     "metadata": {},
     "output_type": "display_data"
    },
    {
     "data": {
      "image/png": "[encoded data removed]",
      "text/plain": [
       "Plot with title \"ROC curve\""
      ]
     },
     "metadata": {},
     "output_type": "display_data"
    }
   ],
   "source": [
    "# AUC for rpart model using rose data\n",
    "\n",
    "roc.curve(test$Class, pred.tree.rose[,2])"
   ]
  },
  {
   "cell_type": "code",
   "execution_count": 53,
   "metadata": {},
   "outputs": [
    {
     "data": {
      "text/plain": [
       "Area under the curve (AUC): 0.941"
      ]
     },
     "metadata": {},
     "output_type": "display_data"
    },
    {
     "data": {
      "image/png": "[encoded data removed]",
      "text/plain": [
       "Plot with title \"ROC curve\""
      ]
     },
     "metadata": {},
     "output_type": "display_data"
    }
   ],
   "source": [
    "# AUC for rpart model using over-sampling data\n",
    "\n",
    "\n",
    "roc.curve(test$Class, pred.tree.over[,2])"
   ]
  },
  {
   "cell_type": "code",
   "execution_count": 54,
   "metadata": {},
   "outputs": [
    {
     "data": {
      "text/plain": [
       "Area under the curve (AUC): 0.935"
      ]
     },
     "metadata": {},
     "output_type": "display_data"
    },
    {
     "data": {
      "image/png": "[encoded data removed]",
      "text/plain": [
       "Plot with title \"ROC curve\""
      ]
     },
     "metadata": {},
     "output_type": "display_data"
    }
   ],
   "source": [
    "# AUC for rpart model using under-sampling data\n",
    "\n",
    "roc.curve(test$Class, pred.tree.under[,2])"
   ]
  },
  {
   "cell_type": "code",
   "execution_count": 55,
   "metadata": {},
   "outputs": [
    {
     "data": {
      "text/plain": [
       "Area under the curve (AUC): 0.965"
      ]
     },
     "metadata": {},
     "output_type": "display_data"
    },
    {
     "data": {
      "image/png": "[encoded data removed]",
      "text/plain": [
       "Plot with title \"ROC curve\""
      ]
     },
     "metadata": {},
     "output_type": "display_data"
    }
   ],
   "source": [
    "# AUC for rpart model using both oversampling and undersampling data\n",
    "\n",
    "roc.curve(test$Class, pred.tree.both[,2])"
   ]
  },
  {
   "cell_type": "code",
   "execution_count": 46,
   "metadata": {},
   "outputs": [],
   "source": []
  },
  {
   "cell_type": "code",
   "execution_count": 47,
   "metadata": {},
   "outputs": [],
   "source": []
  },
  {
   "cell_type": "code",
   "execution_count": 48,
   "metadata": {},
   "outputs": [],
   "source": []
  },
  {
   "cell_type": "code",
   "execution_count": null,
   "metadata": {},
   "outputs": [],
   "source": []
  }
 ],
 "metadata": {
  "kernelspec": {
   "display_name": "R",
   "language": "R",
   "name": "ir"
  },
  "language_info": {
   "codemirror_mode": "r",
   "file_extension": ".r",
   "mimetype": "text/x-r-source",
   "name": "R",
   "pygments_lexer": "r",
   "version": "3.5.1"
  }
 },
 "nbformat": 4,
 "nbformat_minor": 2
}
